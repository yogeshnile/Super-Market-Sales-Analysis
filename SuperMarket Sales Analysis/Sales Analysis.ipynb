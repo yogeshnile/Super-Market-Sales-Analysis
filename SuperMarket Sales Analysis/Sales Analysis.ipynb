{
 "cells": [
  {
   "cell_type": "code",
   "execution_count": 1,
   "metadata": {},
   "outputs": [],
   "source": [
    "# @python.expert (bit.ly/3b9Qeo4)\n",
    "\n",
    "import numpy as np\n",
    "import pandas as pd\n",
    "import matplotlib.pyplot as plt\n",
    "import matplotlib"
   ]
  },
  {
   "cell_type": "code",
   "execution_count": 2,
   "metadata": {
    "scrolled": true
   },
   "outputs": [
    {
     "data": {
      "text/html": [
       "<div>\n",
       "<style scoped>\n",
       "    .dataframe tbody tr th:only-of-type {\n",
       "        vertical-align: middle;\n",
       "    }\n",
       "\n",
       "    .dataframe tbody tr th {\n",
       "        vertical-align: top;\n",
       "    }\n",
       "\n",
       "    .dataframe thead th {\n",
       "        text-align: right;\n",
       "    }\n",
       "</style>\n",
       "<table border=\"1\" class=\"dataframe\">\n",
       "  <thead>\n",
       "    <tr style=\"text-align: right;\">\n",
       "      <th></th>\n",
       "      <th>Invoice ID</th>\n",
       "      <th>Branch</th>\n",
       "      <th>City</th>\n",
       "      <th>Customer type</th>\n",
       "      <th>Gender</th>\n",
       "      <th>Product line</th>\n",
       "      <th>Unit price</th>\n",
       "      <th>Quantity</th>\n",
       "      <th>Tax 5%</th>\n",
       "      <th>Total</th>\n",
       "      <th>Date</th>\n",
       "      <th>Time</th>\n",
       "      <th>Payment</th>\n",
       "      <th>cogs</th>\n",
       "      <th>gross margin percentage</th>\n",
       "      <th>gross income</th>\n",
       "      <th>Rating</th>\n",
       "    </tr>\n",
       "  </thead>\n",
       "  <tbody>\n",
       "    <tr>\n",
       "      <td>0</td>\n",
       "      <td>750-67-8428</td>\n",
       "      <td>A</td>\n",
       "      <td>Yangon</td>\n",
       "      <td>Member</td>\n",
       "      <td>Female</td>\n",
       "      <td>Health and beauty</td>\n",
       "      <td>74.69</td>\n",
       "      <td>7</td>\n",
       "      <td>26.1415</td>\n",
       "      <td>548.9715</td>\n",
       "      <td>1/5/2019</td>\n",
       "      <td>13:08</td>\n",
       "      <td>Ewallet</td>\n",
       "      <td>522.83</td>\n",
       "      <td>4.761905</td>\n",
       "      <td>26.1415</td>\n",
       "      <td>9.1</td>\n",
       "    </tr>\n",
       "    <tr>\n",
       "      <td>1</td>\n",
       "      <td>226-31-3081</td>\n",
       "      <td>C</td>\n",
       "      <td>Naypyitaw</td>\n",
       "      <td>Normal</td>\n",
       "      <td>Female</td>\n",
       "      <td>Electronic accessories</td>\n",
       "      <td>15.28</td>\n",
       "      <td>5</td>\n",
       "      <td>3.8200</td>\n",
       "      <td>80.2200</td>\n",
       "      <td>3/8/2019</td>\n",
       "      <td>10:29</td>\n",
       "      <td>Cash</td>\n",
       "      <td>76.40</td>\n",
       "      <td>4.761905</td>\n",
       "      <td>3.8200</td>\n",
       "      <td>9.6</td>\n",
       "    </tr>\n",
       "    <tr>\n",
       "      <td>2</td>\n",
       "      <td>631-41-3108</td>\n",
       "      <td>A</td>\n",
       "      <td>Yangon</td>\n",
       "      <td>Normal</td>\n",
       "      <td>Male</td>\n",
       "      <td>Home and lifestyle</td>\n",
       "      <td>46.33</td>\n",
       "      <td>7</td>\n",
       "      <td>16.2155</td>\n",
       "      <td>340.5255</td>\n",
       "      <td>3/3/2019</td>\n",
       "      <td>13:23</td>\n",
       "      <td>Credit card</td>\n",
       "      <td>324.31</td>\n",
       "      <td>4.761905</td>\n",
       "      <td>16.2155</td>\n",
       "      <td>7.4</td>\n",
       "    </tr>\n",
       "    <tr>\n",
       "      <td>3</td>\n",
       "      <td>123-19-1176</td>\n",
       "      <td>A</td>\n",
       "      <td>Yangon</td>\n",
       "      <td>Member</td>\n",
       "      <td>Male</td>\n",
       "      <td>Health and beauty</td>\n",
       "      <td>58.22</td>\n",
       "      <td>8</td>\n",
       "      <td>23.2880</td>\n",
       "      <td>489.0480</td>\n",
       "      <td>1/27/2019</td>\n",
       "      <td>20:33</td>\n",
       "      <td>Ewallet</td>\n",
       "      <td>465.76</td>\n",
       "      <td>4.761905</td>\n",
       "      <td>23.2880</td>\n",
       "      <td>8.4</td>\n",
       "    </tr>\n",
       "    <tr>\n",
       "      <td>4</td>\n",
       "      <td>373-73-7910</td>\n",
       "      <td>A</td>\n",
       "      <td>Yangon</td>\n",
       "      <td>Normal</td>\n",
       "      <td>Male</td>\n",
       "      <td>Sports and travel</td>\n",
       "      <td>86.31</td>\n",
       "      <td>7</td>\n",
       "      <td>30.2085</td>\n",
       "      <td>634.3785</td>\n",
       "      <td>2/8/2019</td>\n",
       "      <td>10:37</td>\n",
       "      <td>Ewallet</td>\n",
       "      <td>604.17</td>\n",
       "      <td>4.761905</td>\n",
       "      <td>30.2085</td>\n",
       "      <td>5.3</td>\n",
       "    </tr>\n",
       "  </tbody>\n",
       "</table>\n",
       "</div>"
      ],
      "text/plain": [
       "    Invoice ID Branch       City Customer type  Gender  \\\n",
       "0  750-67-8428      A     Yangon        Member  Female   \n",
       "1  226-31-3081      C  Naypyitaw        Normal  Female   \n",
       "2  631-41-3108      A     Yangon        Normal    Male   \n",
       "3  123-19-1176      A     Yangon        Member    Male   \n",
       "4  373-73-7910      A     Yangon        Normal    Male   \n",
       "\n",
       "             Product line  Unit price  Quantity   Tax 5%     Total       Date  \\\n",
       "0       Health and beauty       74.69         7  26.1415  548.9715   1/5/2019   \n",
       "1  Electronic accessories       15.28         5   3.8200   80.2200   3/8/2019   \n",
       "2      Home and lifestyle       46.33         7  16.2155  340.5255   3/3/2019   \n",
       "3       Health and beauty       58.22         8  23.2880  489.0480  1/27/2019   \n",
       "4       Sports and travel       86.31         7  30.2085  634.3785   2/8/2019   \n",
       "\n",
       "    Time      Payment    cogs  gross margin percentage  gross income  Rating  \n",
       "0  13:08      Ewallet  522.83                 4.761905       26.1415     9.1  \n",
       "1  10:29         Cash   76.40                 4.761905        3.8200     9.6  \n",
       "2  13:23  Credit card  324.31                 4.761905       16.2155     7.4  \n",
       "3  20:33      Ewallet  465.76                 4.761905       23.2880     8.4  \n",
       "4  10:37      Ewallet  604.17                 4.761905       30.2085     5.3  "
      ]
     },
     "execution_count": 2,
     "metadata": {},
     "output_type": "execute_result"
    }
   ],
   "source": [
    "data=pd.read_csv('supermarket_sales.csv')\n",
    "\n",
    "data.head()"
   ]
  },
  {
   "cell_type": "markdown",
   "metadata": {},
   "source": [
    "## Payment Type Classification"
   ]
  },
  {
   "cell_type": "code",
   "execution_count": 3,
   "metadata": {},
   "outputs": [
    {
     "data": {
      "text/plain": [
       "(344, 17)"
      ]
     },
     "execution_count": 3,
     "metadata": {},
     "output_type": "execute_result"
    }
   ],
   "source": [
    "payment_cash=data[(data.Payment == 'Cash')]\n",
    "payment_cash.shape"
   ]
  },
  {
   "cell_type": "code",
   "execution_count": 4,
   "metadata": {},
   "outputs": [
    {
     "data": {
      "text/plain": [
       "(345, 17)"
      ]
     },
     "execution_count": 4,
     "metadata": {},
     "output_type": "execute_result"
    }
   ],
   "source": [
    "payment_ewallet=data[(data.Payment == 'Ewallet')]\n",
    "payment_ewallet.shape"
   ]
  },
  {
   "cell_type": "code",
   "execution_count": 5,
   "metadata": {},
   "outputs": [
    {
     "data": {
      "text/plain": [
       "(311, 17)"
      ]
     },
     "execution_count": 5,
     "metadata": {},
     "output_type": "execute_result"
    }
   ],
   "source": [
    "payment_cc=data[(data.Payment == 'Credit card')]\n",
    "payment_cc.shape"
   ]
  },
  {
   "cell_type": "code",
   "execution_count": 6,
   "metadata": {},
   "outputs": [
    {
     "data": {
      "image/png": "[encoded data removed]",
      "text/plain": [
       "<Figure size 432x288 with 1 Axes>"
      ]
     },
     "metadata": {},
     "output_type": "display_data"
    }
   ],
   "source": [
    "payment_type=[344,345,311]\n",
    "labels=['Cash','E-Wallet','Credit Card']\n",
    "\n",
    "plt.pie(payment_type,labels=labels,startangle=180,autopct='%.2f %%')\n",
    "plt.title('Type of Payments', fontdict={'fontname': 'Sans Serif', 'fontsize': 20})\n",
    "plt.axis('equal')\n",
    "\n",
    "plt.savefig('Type of Payments.png', dpi=300)\n",
    "plt.show()"
   ]
  },
  {
   "cell_type": "code",
   "execution_count": 7,
   "metadata": {},
   "outputs": [
    {
     "data": {
      "text/html": [
       "<div>\n",
       "<style scoped>\n",
       "    .dataframe tbody tr th:only-of-type {\n",
       "        vertical-align: middle;\n",
       "    }\n",
       "\n",
       "    .dataframe tbody tr th {\n",
       "        vertical-align: top;\n",
       "    }\n",
       "\n",
       "    .dataframe thead th {\n",
       "        text-align: right;\n",
       "    }\n",
       "</style>\n",
       "<table border=\"1\" class=\"dataframe\">\n",
       "  <thead>\n",
       "    <tr style=\"text-align: right;\">\n",
       "      <th></th>\n",
       "      <th>Invoice ID</th>\n",
       "      <th>Branch</th>\n",
       "      <th>City</th>\n",
       "      <th>Customer type</th>\n",
       "      <th>Gender</th>\n",
       "      <th>Product line</th>\n",
       "      <th>Unit price</th>\n",
       "      <th>Quantity</th>\n",
       "      <th>Tax 5%</th>\n",
       "      <th>Total</th>\n",
       "      <th>Date</th>\n",
       "      <th>Time</th>\n",
       "      <th>Payment</th>\n",
       "      <th>cogs</th>\n",
       "      <th>gross margin percentage</th>\n",
       "      <th>gross income</th>\n",
       "      <th>Rating</th>\n",
       "    </tr>\n",
       "  </thead>\n",
       "  <tbody>\n",
       "    <tr>\n",
       "      <td>0</td>\n",
       "      <td>750-67-8428</td>\n",
       "      <td>A</td>\n",
       "      <td>Yangon</td>\n",
       "      <td>Member</td>\n",
       "      <td>Female</td>\n",
       "      <td>Health and beauty</td>\n",
       "      <td>74.69</td>\n",
       "      <td>7</td>\n",
       "      <td>26.1415</td>\n",
       "      <td>548.9715</td>\n",
       "      <td>1/5/2019</td>\n",
       "      <td>13:08</td>\n",
       "      <td>Ewallet</td>\n",
       "      <td>522.83</td>\n",
       "      <td>4.761905</td>\n",
       "      <td>26.1415</td>\n",
       "      <td>9.1</td>\n",
       "    </tr>\n",
       "    <tr>\n",
       "      <td>1</td>\n",
       "      <td>226-31-3081</td>\n",
       "      <td>C</td>\n",
       "      <td>Naypyitaw</td>\n",
       "      <td>Normal</td>\n",
       "      <td>Female</td>\n",
       "      <td>Electronic accessories</td>\n",
       "      <td>15.28</td>\n",
       "      <td>5</td>\n",
       "      <td>3.8200</td>\n",
       "      <td>80.2200</td>\n",
       "      <td>3/8/2019</td>\n",
       "      <td>10:29</td>\n",
       "      <td>Cash</td>\n",
       "      <td>76.40</td>\n",
       "      <td>4.761905</td>\n",
       "      <td>3.8200</td>\n",
       "      <td>9.6</td>\n",
       "    </tr>\n",
       "    <tr>\n",
       "      <td>2</td>\n",
       "      <td>631-41-3108</td>\n",
       "      <td>A</td>\n",
       "      <td>Yangon</td>\n",
       "      <td>Normal</td>\n",
       "      <td>Male</td>\n",
       "      <td>Home and lifestyle</td>\n",
       "      <td>46.33</td>\n",
       "      <td>7</td>\n",
       "      <td>16.2155</td>\n",
       "      <td>340.5255</td>\n",
       "      <td>3/3/2019</td>\n",
       "      <td>13:23</td>\n",
       "      <td>Credit card</td>\n",
       "      <td>324.31</td>\n",
       "      <td>4.761905</td>\n",
       "      <td>16.2155</td>\n",
       "      <td>7.4</td>\n",
       "    </tr>\n",
       "    <tr>\n",
       "      <td>3</td>\n",
       "      <td>123-19-1176</td>\n",
       "      <td>A</td>\n",
       "      <td>Yangon</td>\n",
       "      <td>Member</td>\n",
       "      <td>Male</td>\n",
       "      <td>Health and beauty</td>\n",
       "      <td>58.22</td>\n",
       "      <td>8</td>\n",
       "      <td>23.2880</td>\n",
       "      <td>489.0480</td>\n",
       "      <td>1/27/2019</td>\n",
       "      <td>20:33</td>\n",
       "      <td>Ewallet</td>\n",
       "      <td>465.76</td>\n",
       "      <td>4.761905</td>\n",
       "      <td>23.2880</td>\n",
       "      <td>8.4</td>\n",
       "    </tr>\n",
       "    <tr>\n",
       "      <td>4</td>\n",
       "      <td>373-73-7910</td>\n",
       "      <td>A</td>\n",
       "      <td>Yangon</td>\n",
       "      <td>Normal</td>\n",
       "      <td>Male</td>\n",
       "      <td>Sports and travel</td>\n",
       "      <td>86.31</td>\n",
       "      <td>7</td>\n",
       "      <td>30.2085</td>\n",
       "      <td>634.3785</td>\n",
       "      <td>2/8/2019</td>\n",
       "      <td>10:37</td>\n",
       "      <td>Ewallet</td>\n",
       "      <td>604.17</td>\n",
       "      <td>4.761905</td>\n",
       "      <td>30.2085</td>\n",
       "      <td>5.3</td>\n",
       "    </tr>\n",
       "  </tbody>\n",
       "</table>\n",
       "</div>"
      ],
      "text/plain": [
       "    Invoice ID Branch       City Customer type  Gender  \\\n",
       "0  750-67-8428      A     Yangon        Member  Female   \n",
       "1  226-31-3081      C  Naypyitaw        Normal  Female   \n",
       "2  631-41-3108      A     Yangon        Normal    Male   \n",
       "3  123-19-1176      A     Yangon        Member    Male   \n",
       "4  373-73-7910      A     Yangon        Normal    Male   \n",
       "\n",
       "             Product line  Unit price  Quantity   Tax 5%     Total       Date  \\\n",
       "0       Health and beauty       74.69         7  26.1415  548.9715   1/5/2019   \n",
       "1  Electronic accessories       15.28         5   3.8200   80.2200   3/8/2019   \n",
       "2      Home and lifestyle       46.33         7  16.2155  340.5255   3/3/2019   \n",
       "3       Health and beauty       58.22         8  23.2880  489.0480  1/27/2019   \n",
       "4       Sports and travel       86.31         7  30.2085  634.3785   2/8/2019   \n",
       "\n",
       "    Time      Payment    cogs  gross margin percentage  gross income  Rating  \n",
       "0  13:08      Ewallet  522.83                 4.761905       26.1415     9.1  \n",
       "1  10:29         Cash   76.40                 4.761905        3.8200     9.6  \n",
       "2  13:23  Credit card  324.31                 4.761905       16.2155     7.4  \n",
       "3  20:33      Ewallet  465.76                 4.761905       23.2880     8.4  \n",
       "4  10:37      Ewallet  604.17                 4.761905       30.2085     5.3  "
      ]
     },
     "execution_count": 7,
     "metadata": {},
     "output_type": "execute_result"
    }
   ],
   "source": [
    "data.head()"
   ]
  },
  {
   "cell_type": "markdown",
   "metadata": {},
   "source": [
    "## Branch wise Classification"
   ]
  },
  {
   "cell_type": "code",
   "execution_count": 8,
   "metadata": {},
   "outputs": [
    {
     "data": {
      "text/plain": [
       "(340, 17)"
      ]
     },
     "execution_count": 8,
     "metadata": {},
     "output_type": "execute_result"
    }
   ],
   "source": [
    "branch_a=data[(data.Branch == 'A')]\n",
    "branch_a.shape"
   ]
  },
  {
   "cell_type": "code",
   "execution_count": 9,
   "metadata": {},
   "outputs": [
    {
     "data": {
      "text/plain": [
       "(332, 17)"
      ]
     },
     "execution_count": 9,
     "metadata": {},
     "output_type": "execute_result"
    }
   ],
   "source": [
    "branch_b=data[(data.Branch == 'B')]\n",
    "branch_b.shape"
   ]
  },
  {
   "cell_type": "code",
   "execution_count": 10,
   "metadata": {},
   "outputs": [
    {
     "data": {
      "text/plain": [
       "(328, 17)"
      ]
     },
     "execution_count": 10,
     "metadata": {},
     "output_type": "execute_result"
    }
   ],
   "source": [
    "branch_c=data[(data.Branch == 'C')]\n",
    "branch_c.shape"
   ]
  },
  {
   "cell_type": "code",
   "execution_count": 11,
   "metadata": {},
   "outputs": [
    {
     "data": {
      "image/png": "[encoded data removed]",
      "text/plain": [
       "<Figure size 432x288 with 1 Axes>"
      ]
     },
     "metadata": {
      "needs_background": "light"
     },
     "output_type": "display_data"
    }
   ],
   "source": [
    "branch_type=[340,332,328]\n",
    "branch_name=['A','B','C']\n",
    "\n",
    "plt.bar(branch_name,branch_type, color='y')\n",
    "plt.title('Branch wise Sales',fontdict={'fontname': 'Sans Serif', 'fontsize': 20})\n",
    "plt.ylabel('Invoice',fontdict={'fontname': 'Sans Serif', 'fontsize': 15})\n",
    "plt.xlabel('Branch',fontdict={'fontname': 'Sans Serif', 'fontsize': 15})\n",
    "\n",
    "#plt.legend()\n",
    "plt.savefig('Branch wise Sales.png',dpi=300)\n",
    "plt.show()"
   ]
  },
  {
   "cell_type": "markdown",
   "metadata": {},
   "source": [
    "## customer type classification"
   ]
  },
  {
   "cell_type": "code",
   "execution_count": 12,
   "metadata": {},
   "outputs": [
    {
     "data": {
      "text/plain": [
       "(501, 17)"
      ]
     },
     "execution_count": 12,
     "metadata": {},
     "output_type": "execute_result"
    }
   ],
   "source": [
    "cus_member=data[(data['Customer type'] == 'Member')]\n",
    "cus_member.shape"
   ]
  },
  {
   "cell_type": "code",
   "execution_count": 13,
   "metadata": {},
   "outputs": [
    {
     "data": {
      "text/plain": [
       "(499, 17)"
      ]
     },
     "execution_count": 13,
     "metadata": {},
     "output_type": "execute_result"
    }
   ],
   "source": [
    "cus_normal=data[(data['Customer type'] == 'Normal')]\n",
    "cus_normal.shape"
   ]
  },
  {
   "cell_type": "code",
   "execution_count": 14,
   "metadata": {},
   "outputs": [
    {
     "data": {
      "image/png": "[encoded data removed]",
      "text/plain": [
       "<Figure size 432x288 with 1 Axes>"
      ]
     },
     "metadata": {},
     "output_type": "display_data"
    }
   ],
   "source": [
    "cus_type=[501,499]\n",
    "labels=['Member Customer','Normal Customer']\n",
    "\n",
    "plt.pie(cus_type,labels=labels,startangle=90,autopct='%.2f %%')\n",
    "plt.title('Type of Customer', fontdict={'fontname': 'Sans Serif', 'fontsize': 20})\n",
    "plt.axis('equal')\n",
    "\n",
    "plt.savefig('Type of Customer.png', dpi=300)\n",
    "plt.show()"
   ]
  },
  {
   "cell_type": "markdown",
   "metadata": {},
   "source": [
    "## Product wise Classification"
   ]
  },
  {
   "cell_type": "code",
   "execution_count": 15,
   "metadata": {},
   "outputs": [
    {
     "data": {
      "text/plain": [
       "(152, 17)"
      ]
     },
     "execution_count": 15,
     "metadata": {},
     "output_type": "execute_result"
    }
   ],
   "source": [
    "prod_Health_and_beauty=data[(data['Product line'] == 'Health and beauty')]\n",
    "prod_Health_and_beauty.shape"
   ]
  },
  {
   "cell_type": "code",
   "execution_count": 16,
   "metadata": {},
   "outputs": [
    {
     "data": {
      "text/plain": [
       "(170, 17)"
      ]
     },
     "execution_count": 16,
     "metadata": {},
     "output_type": "execute_result"
    }
   ],
   "source": [
    "prod_Electronic_accessories=data[(data['Product line'] == 'Electronic accessories')]\n",
    "prod_Electronic_accessories.shape"
   ]
  },
  {
   "cell_type": "code",
   "execution_count": 17,
   "metadata": {},
   "outputs": [
    {
     "data": {
      "text/plain": [
       "(160, 17)"
      ]
     },
     "execution_count": 17,
     "metadata": {},
     "output_type": "execute_result"
    }
   ],
   "source": [
    "prod_Home_and_lifestyle=data[(data['Product line'] == 'Home and lifestyle')]\n",
    "prod_Home_and_lifestyle.shape"
   ]
  },
  {
   "cell_type": "code",
   "execution_count": 18,
   "metadata": {},
   "outputs": [
    {
     "data": {
      "text/plain": [
       "(166, 17)"
      ]
     },
     "execution_count": 18,
     "metadata": {},
     "output_type": "execute_result"
    }
   ],
   "source": [
    "prod_Sports_and_travel=data[(data['Product line'] == 'Sports and travel')]\n",
    "prod_Sports_and_travel.shape"
   ]
  },
  {
   "cell_type": "code",
   "execution_count": 19,
   "metadata": {},
   "outputs": [
    {
     "data": {
      "text/plain": [
       "(174, 17)"
      ]
     },
     "execution_count": 19,
     "metadata": {},
     "output_type": "execute_result"
    }
   ],
   "source": [
    "prod_Food_and_beverages=data[(data['Product line'] == 'Food and beverages')]\n",
    "prod_Food_and_beverages.shape"
   ]
  },
  {
   "cell_type": "code",
   "execution_count": 20,
   "metadata": {},
   "outputs": [
    {
     "data": {
      "text/plain": [
       "(178, 17)"
      ]
     },
     "execution_count": 20,
     "metadata": {},
     "output_type": "execute_result"
    }
   ],
   "source": [
    "prod_Fashion_accessories=data[(data['Product line'] == 'Fashion accessories')]\n",
    "prod_Fashion_accessories.shape"
   ]
  },
  {
   "cell_type": "code",
   "execution_count": 21,
   "metadata": {},
   "outputs": [
    {
     "data": {
      "image/png": "[encoded data removed]",
      "text/plain": [
       "<Figure size 432x288 with 1 Axes>"
      ]
     },
     "metadata": {},
     "output_type": "display_data"
    }
   ],
   "source": [
    "product_type=[152,170,160,166,174,178]\n",
    "labels=['Health and Beauty','Electronic Accessories','Home and Lifestyle','Sports and Travel',\n",
    "       'Food and Beverages','Fashion Accessories']\n",
    "\n",
    "plt.pie(product_type,labels=labels,startangle=90,autopct='%.2f %%')\n",
    "plt.title('Type Product Sales', fontdict={'fontname': 'Sans Serif', 'fontsize': 20})\n",
    "plt.axis('equal')\n",
    "\n",
    "plt.savefig('Type of Product Sales.png', dpi=300)\n",
    "plt.show()"
   ]
  },
  {
   "cell_type": "markdown",
   "metadata": {},
   "source": [
    "## Gender wise Classification"
   ]
  },
  {
   "cell_type": "code",
   "execution_count": 22,
   "metadata": {},
   "outputs": [
    {
     "data": {
      "text/plain": [
       "(499, 17)"
      ]
     },
     "execution_count": 22,
     "metadata": {},
     "output_type": "execute_result"
    }
   ],
   "source": [
    "cus_male=data[(data.Gender == 'Male')]\n",
    "cus_male.shape"
   ]
  },
  {
   "cell_type": "code",
   "execution_count": 23,
   "metadata": {},
   "outputs": [
    {
     "data": {
      "text/plain": [
       "(501, 17)"
      ]
     },
     "execution_count": 23,
     "metadata": {},
     "output_type": "execute_result"
    }
   ],
   "source": [
    "cus_female=data[(data.Gender == 'Female')]\n",
    "cus_female.shape"
   ]
  },
  {
   "cell_type": "code",
   "execution_count": 24,
   "metadata": {},
   "outputs": [
    {
     "data": {
      "image/png": "[encoded data removed]",
      "text/plain": [
       "<Figure size 432x288 with 1 Axes>"
      ]
     },
     "metadata": {},
     "output_type": "display_data"
    }
   ],
   "source": [
    "cus_type=[501,499]\n",
    "labels=['Female Customer','Male Customer']\n",
    "\n",
    "plt.pie(cus_type,labels=labels,startangle=90,autopct='%.2f %%')\n",
    "plt.title('Type of Customer (Gender)', fontdict={'fontname': 'Sans Serif', 'fontsize': 20})\n",
    "plt.axis('equal')\n",
    "\n",
    "plt.savefig('Type of Customer(gender).png', dpi=300)\n",
    "plt.show()"
   ]
  },
  {
   "cell_type": "markdown",
   "metadata": {},
   "source": [
    "## Gender and Customer wise Classification"
   ]
  },
  {
   "cell_type": "code",
   "execution_count": 25,
   "metadata": {},
   "outputs": [
    {
     "data": {
      "text/plain": [
       "(259, 17)"
      ]
     },
     "execution_count": 25,
     "metadata": {},
     "output_type": "execute_result"
    }
   ],
   "source": [
    "cus_male_normal=data[(data.Gender == 'Male')&(data['Customer type']== 'Normal')]\n",
    "cus_male_normal.shape"
   ]
  },
  {
   "cell_type": "code",
   "execution_count": 26,
   "metadata": {},
   "outputs": [
    {
     "data": {
      "text/plain": [
       "(240, 17)"
      ]
     },
     "execution_count": 26,
     "metadata": {},
     "output_type": "execute_result"
    }
   ],
   "source": [
    "cus_male_member=data[(data.Gender == 'Male')&(data['Customer type']== 'Member')]\n",
    "cus_male_member.shape"
   ]
  },
  {
   "cell_type": "code",
   "execution_count": 27,
   "metadata": {},
   "outputs": [
    {
     "data": {
      "text/plain": [
       "(240, 17)"
      ]
     },
     "execution_count": 27,
     "metadata": {},
     "output_type": "execute_result"
    }
   ],
   "source": [
    "cus_female_normal=data[(data.Gender == 'Female')&(data['Customer type']== 'Normal')]\n",
    "cus_female_normal.shape"
   ]
  },
  {
   "cell_type": "code",
   "execution_count": 28,
   "metadata": {},
   "outputs": [
    {
     "data": {
      "text/plain": [
       "(261, 17)"
      ]
     },
     "execution_count": 28,
     "metadata": {},
     "output_type": "execute_result"
    }
   ],
   "source": [
    "cus_female_member=data[(data.Gender == 'Female')&(data['Customer type']== 'Member')]\n",
    "cus_female_member.shape"
   ]
  },
  {
   "cell_type": "code",
   "execution_count": 29,
   "metadata": {},
   "outputs": [
    {
     "data": {
      "image/png": "[encoded data removed]",
      "text/plain": [
       "<Figure size 432x288 with 1 Axes>"
      ]
     },
     "metadata": {},
     "output_type": "display_data"
    }
   ],
   "source": [
    "cus_type=[259,240,240,261]\n",
    "labels=['Male Nomal Customer','Male Member Customer','Female Normal Customer','Female Member Customer']\n",
    "\n",
    "plt.pie(cus_type,labels=labels,startangle=90,autopct='%.2f %%')\n",
    "plt.title('Type of Customer (Gender and Customer Type)', fontdict={'fontname': 'Sans Serif', 'fontsize': 15})\n",
    "plt.axis('equal')\n",
    "\n",
    "plt.savefig('Type of Customer(gender and type).png', dpi=300)\n",
    "plt.show()"
   ]
  },
  {
   "cell_type": "markdown",
   "metadata": {},
   "source": [
    "## Gender and Product wise Classification"
   ]
  },
  {
   "cell_type": "code",
   "execution_count": 30,
   "metadata": {},
   "outputs": [
    {
     "data": {
      "text/plain": [
       "(64, 17)"
      ]
     },
     "execution_count": 30,
     "metadata": {},
     "output_type": "execute_result"
    }
   ],
   "source": [
    "prod_Health_and_beauty_female=prod_Health_and_beauty[(prod_Health_and_beauty.Gender == 'Female')]\n",
    "prod_Health_and_beauty_female.shape"
   ]
  },
  {
   "cell_type": "code",
   "execution_count": 31,
   "metadata": {},
   "outputs": [
    {
     "data": {
      "text/plain": [
       "(88, 17)"
      ]
     },
     "execution_count": 31,
     "metadata": {},
     "output_type": "execute_result"
    }
   ],
   "source": [
    "prod_Health_and_beauty_male=prod_Health_and_beauty[(prod_Health_and_beauty.Gender == 'Male')]\n",
    "prod_Health_and_beauty_male.shape"
   ]
  },
  {
   "cell_type": "code",
   "execution_count": 32,
   "metadata": {},
   "outputs": [
    {
     "data": {
      "text/plain": [
       "(84, 17)"
      ]
     },
     "execution_count": 32,
     "metadata": {},
     "output_type": "execute_result"
    }
   ],
   "source": [
    "prod_Electronic_accessories_female=prod_Electronic_accessories[(prod_Electronic_accessories.Gender == 'Female')]\n",
    "prod_Electronic_accessories_female.shape"
   ]
  },
  {
   "cell_type": "code",
   "execution_count": 33,
   "metadata": {},
   "outputs": [
    {
     "data": {
      "text/plain": [
       "(86, 17)"
      ]
     },
     "execution_count": 33,
     "metadata": {},
     "output_type": "execute_result"
    }
   ],
   "source": [
    "prod_Electronic_accessories_male=prod_Electronic_accessories[(prod_Electronic_accessories.Gender == 'Male')]\n",
    "prod_Electronic_accessories_male.shape"
   ]
  },
  {
   "cell_type": "code",
   "execution_count": 34,
   "metadata": {},
   "outputs": [
    {
     "data": {
      "text/plain": [
       "(79, 17)"
      ]
     },
     "execution_count": 34,
     "metadata": {},
     "output_type": "execute_result"
    }
   ],
   "source": [
    "prod_Home_and_lifestyle_female=prod_Home_and_lifestyle[(prod_Home_and_lifestyle.Gender == 'Female')]\n",
    "prod_Home_and_lifestyle_female.shape"
   ]
  },
  {
   "cell_type": "code",
   "execution_count": 35,
   "metadata": {},
   "outputs": [
    {
     "data": {
      "text/plain": [
       "(81, 17)"
      ]
     },
     "execution_count": 35,
     "metadata": {},
     "output_type": "execute_result"
    }
   ],
   "source": [
    "prod_Home_and_lifestyle_male=prod_Home_and_lifestyle[(prod_Home_and_lifestyle.Gender == 'Male')]\n",
    "prod_Home_and_lifestyle_male.shape"
   ]
  },
  {
   "cell_type": "code",
   "execution_count": 36,
   "metadata": {},
   "outputs": [
    {
     "data": {
      "text/plain": [
       "(88, 17)"
      ]
     },
     "execution_count": 36,
     "metadata": {},
     "output_type": "execute_result"
    }
   ],
   "source": [
    "prod_Sports_and_travel_female=prod_Sports_and_travel[(prod_Sports_and_travel.Gender == 'Female')]\n",
    "prod_Sports_and_travel_female.shape"
   ]
  },
  {
   "cell_type": "code",
   "execution_count": 37,
   "metadata": {},
   "outputs": [
    {
     "data": {
      "text/plain": [
       "(78, 17)"
      ]
     },
     "execution_count": 37,
     "metadata": {},
     "output_type": "execute_result"
    }
   ],
   "source": [
    "prod_Sports_and_travel_male=prod_Sports_and_travel[(prod_Sports_and_travel.Gender == 'Male')]\n",
    "prod_Sports_and_travel_male.shape"
   ]
  },
  {
   "cell_type": "code",
   "execution_count": 38,
   "metadata": {},
   "outputs": [
    {
     "data": {
      "text/plain": [
       "(90, 17)"
      ]
     },
     "execution_count": 38,
     "metadata": {},
     "output_type": "execute_result"
    }
   ],
   "source": [
    "prod_Food_and_beverages_female=prod_Food_and_beverages[(prod_Food_and_beverages.Gender == 'Female')]\n",
    "prod_Food_and_beverages_female.shape"
   ]
  },
  {
   "cell_type": "code",
   "execution_count": 39,
   "metadata": {},
   "outputs": [
    {
     "data": {
      "text/plain": [
       "(84, 17)"
      ]
     },
     "execution_count": 39,
     "metadata": {},
     "output_type": "execute_result"
    }
   ],
   "source": [
    "prod_Food_and_beverages_male=prod_Food_and_beverages[(prod_Food_and_beverages.Gender == 'Male')]\n",
    "prod_Food_and_beverages_male.shape"
   ]
  },
  {
   "cell_type": "code",
   "execution_count": 40,
   "metadata": {},
   "outputs": [
    {
     "data": {
      "text/plain": [
       "(96, 17)"
      ]
     },
     "execution_count": 40,
     "metadata": {},
     "output_type": "execute_result"
    }
   ],
   "source": [
    "prod_Fashion_accessories_female=prod_Fashion_accessories[(prod_Fashion_accessories.Gender == 'Female')]\n",
    "prod_Fashion_accessories_female.shape"
   ]
  },
  {
   "cell_type": "code",
   "execution_count": 41,
   "metadata": {},
   "outputs": [
    {
     "data": {
      "text/plain": [
       "(82, 17)"
      ]
     },
     "execution_count": 41,
     "metadata": {},
     "output_type": "execute_result"
    }
   ],
   "source": [
    "prod_Fashion_accessories_male=prod_Fashion_accessories[(prod_Fashion_accessories.Gender == 'Male')]\n",
    "prod_Fashion_accessories_male.shape"
   ]
  },
  {
   "cell_type": "code",
   "execution_count": 42,
   "metadata": {},
   "outputs": [
    {
     "data": {
      "image/png": "[encoded data removed]",
      "text/plain": [
       "<Figure size 432x288 with 1 Axes>"
      ]
     },
     "metadata": {
      "needs_background": "light"
     },
     "output_type": "display_data"
    }
   ],
   "source": [
    "Health_and_beauty=[64,88]\n",
    "Electronic_accessories=[84,86]\n",
    "Home_and_lifestyle=[79,81]\n",
    "Sports_and_travel=[88,78]\n",
    "Food_and_beverages=[90,84]\n",
    "Fashion_accessories=[96,82]\n",
    "\n",
    "labels=['Female','Male']\n",
    "\n",
    "\n",
    "x=np.arange(len(labels))\n",
    "width=0.10\n",
    "\n",
    "\n",
    "fig, ax = plt.subplots()\n",
    "\n",
    "\n",
    "rects1 = ax.bar(x - 0.2, Health_and_beauty, width, label='Health and Beauty',edgecolor='black')\n",
    "rects2 = ax.bar(x - 0.1, Electronic_accessories, width, label='Electronic Accessories',edgecolor='black')\n",
    "rects3 = ax.bar(x, Home_and_lifestyle, width, label='Home and Lifestyle',edgecolor='black')\n",
    "rects4 = ax.bar(x + 0.1, Sports_and_travel, width, label='Sports and Travel',edgecolor='black')\n",
    "rects5 = ax.bar(x + 0.2, Food_and_beverages, width, label='Food and Beverages',edgecolor='black')\n",
    "rects6 = ax.bar(x + 0.3, Fashion_accessories, width, label='Fashion Accessories',edgecolor='black')\n",
    "\n",
    "\n",
    "ax.set_ylabel('Invoice',fontdict={'fontname': 'Sans Serif', 'fontsize': 15})\n",
    "ax.set_title('Product wise Customer(Gender)',fontdict={'fontname': 'Sans Serif', 'fontsize': 20})\n",
    "ax.set_xticks(x)\n",
    "ax.set_xticklabels(labels)\n",
    "ax.set_yticks([0,25,50,75,100,125,150,175,190])\n",
    "\n",
    "\n",
    "ax.legend()\n",
    "\n",
    "def autolabel(rects):\n",
    "    \"\"\"Attach a text label above each bar in *rects*, displaying its height.\"\"\"\n",
    "    for rect in rects:\n",
    "        height = rect.get_height()\n",
    "        ax.annotate('{}'.format(height),\n",
    "                    xy=(rect.get_x() + rect.get_width() / 2, height),\n",
    "                    xytext=(0, 3),  # 3 points vertical offset\n",
    "                    textcoords=\"offset points\",\n",
    "                    ha='center', va='bottom')\n",
    "\n",
    "autolabel(rects1)\n",
    "autolabel(rects2)\n",
    "autolabel(rects3)\n",
    "autolabel(rects4)\n",
    "autolabel(rects5)\n",
    "autolabel(rects6)\n",
    "\n",
    "fig.tight_layout()\n",
    "\n",
    "\n",
    "plt.savefig('Product wise cutomers.png', dpi=300)\n",
    "plt.show()\n"
   ]
  },
  {
   "cell_type": "markdown",
   "metadata": {},
   "source": [
    "## Branch and Income wise Classification"
   ]
  },
  {
   "cell_type": "code",
   "execution_count": 43,
   "metadata": {},
   "outputs": [
    {
     "data": {
      "text/plain": [
       "Invoice ID                 750-67-8428631-41-3108123-19-1176373-73-791035...\n",
       "Branch                     AAAAAAAAAAAAAAAAAAAAAAAAAAAAAAAAAAAAAAAAAAAAAA...\n",
       "City                       YangonYangonYangonYangonYangonYangonYangonYang...\n",
       "Customer type              MemberNormalMemberNormalMemberMemberNormalNorm...\n",
       "Gender                     FemaleMaleMaleMaleFemaleFemaleFemaleMaleFemale...\n",
       "Product line               Health and beautyHome and lifestyleHealth and ...\n",
       "Unit price                                                           18625.5\n",
       "Quantity                                                                1859\n",
       "Tax 5%                                                               5057.16\n",
       "Total                                                                 106200\n",
       "Date                       1/5/20193/3/20191/27/20192/8/20192/25/20191/10...\n",
       "Time                       13:0813:2320:3310:3714:3617:1510:2516:4819:211...\n",
       "Payment                    EwalletCredit cardEwalletEwalletEwalletCredit ...\n",
       "cogs                                                                  101143\n",
       "gross margin percentage                                              1619.05\n",
       "gross income                                                         5057.16\n",
       "Rating                                                                2389.2\n",
       "dtype: object"
      ]
     },
     "execution_count": 43,
     "metadata": {},
     "output_type": "execute_result"
    }
   ],
   "source": [
    "branch_a.sum()"
   ]
  },
  {
   "cell_type": "code",
   "execution_count": 44,
   "metadata": {},
   "outputs": [
    {
     "data": {
      "text/plain": [
       "Invoice ID                 692-92-5582351-62-0822529-56-3974299-46-180531...\n",
       "Branch                     BBBBBBBBBBBBBBBBBBBBBBBBBBBBBBBBBBBBBBBBBBBBBB...\n",
       "City                       MandalayMandalayMandalayMandalayMandalayMandal...\n",
       "Customer type              MemberMemberMemberMemberNormalNormalNormalNorm...\n",
       "Gender                     FemaleFemaleMaleFemaleFemaleMaleMaleMaleFemale...\n",
       "Product line               Food and beveragesFashion accessoriesElectroni...\n",
       "Unit price                                                           18478.9\n",
       "Quantity                                                                1820\n",
       "Tax 5%                                                               5057.03\n",
       "Total                                                                 106198\n",
       "Date                       2/20/20192/6/20193/9/20191/15/20193/11/20193/5...\n",
       "Time                       13:2718:0717:0316:1915:3010:4012:2015:3119:481...\n",
       "Payment                    Credit cardEwalletCashCashEwalletEwalletCredit...\n",
       "cogs                                                                  101141\n",
       "gross margin percentage                                              1580.95\n",
       "gross income                                                         5057.03\n",
       "Rating                                                                2263.6\n",
       "dtype: object"
      ]
     },
     "execution_count": 44,
     "metadata": {},
     "output_type": "execute_result"
    }
   ],
   "source": [
    "branch_b.sum()"
   ]
  },
  {
   "cell_type": "code",
   "execution_count": 45,
   "metadata": {},
   "outputs": [
    {
     "data": {
      "text/plain": [
       "Invoice ID                 226-31-3081699-14-3026315-22-5665300-71-460518...\n",
       "Branch                     CCCCCCCCCCCCCCCCCCCCCCCCCCCCCCCCCCCCCCCCCCCCCC...\n",
       "City                       NaypyitawNaypyitawNaypyitawNaypyitawNaypyitawN...\n",
       "Customer type              NormalNormalNormalMemberMemberMemberNormalMemb...\n",
       "Gender                     FemaleMaleFemaleMaleFemaleFemaleFemaleMaleFema...\n",
       "Product line               Electronic accessoriesElectronic accessoriesHo...\n",
       "Unit price                                                           18567.8\n",
       "Quantity                                                                1831\n",
       "Tax 5%                                                               5265.18\n",
       "Total                                                                 110569\n",
       "Date                       3/8/20193/25/20192/24/20192/25/20192/6/20191/7...\n",
       "Time                       10:2918:3011:3811:2410:4212:2813:2410:1120:391...\n",
       "Payment                    CashEwalletEwalletEwalletEwalletEwalletEwallet...\n",
       "cogs                                                                  105304\n",
       "gross margin percentage                                               1561.9\n",
       "gross income                                                         5265.18\n",
       "Rating                                                                2319.9\n",
       "dtype: object"
      ]
     },
     "execution_count": 45,
     "metadata": {},
     "output_type": "execute_result"
    }
   ],
   "source": [
    "branch_c.sum()"
   ]
  },
  {
   "cell_type": "code",
   "execution_count": 46,
   "metadata": {},
   "outputs": [
    {
     "data": {
      "image/png": "[encoded data removed]",
      "text/plain": [
       "<Figure size 432x288 with 1 Axes>"
      ]
     },
     "metadata": {
      "needs_background": "light"
     },
     "output_type": "display_data"
    }
   ],
   "source": [
    "branch_income=[5057.03,5057.03,5265.18]\n",
    "branch_lebel=['A','B','C']\n",
    "\n",
    "x=np.arange(len(branch_lebel))\n",
    "\n",
    "fig, ax = plt.subplots()\n",
    "\n",
    "rect1=ax.bar(branch_lebel,branch_income,0.50,label='Income in $', color='y', edgecolor='black')\n",
    "\n",
    "ax.set_title('Branch wise Income($)', fontdict={'fontname': 'Sans Serif', 'fontsize': 30})\n",
    "ax.set_xlabel('Branch',fontdict={'fontname': 'Sans Serif', 'fontsize': 15})\n",
    "ax.set_ylabel('Income (in $)',fontdict={'fontname': 'Sans Serif', 'fontsize': 15})\n",
    "ax.set_yticks([0,1000,2000,3000,4000,5000,6000,7000])\n",
    "\n",
    "ax.legend()\n",
    "\n",
    "def autolabel(rects):\n",
    "    \"\"\"Attach a text label above each bar in *rects*, displaying its height.\"\"\"\n",
    "    for rect in rects:\n",
    "        height = rect.get_height()\n",
    "        ax.annotate('{}'.format(height),\n",
    "                    xy=(rect.get_x() + rect.get_width() / 2, height),\n",
    "                    xytext=(0, 3),  # 3 points vertical offset\n",
    "                    textcoords=\"offset points\",\n",
    "                    ha='center', va='bottom')\n",
    "autolabel(rect1)\n",
    "\n",
    "\n",
    "ax=plt.savefig('Branch wise Income.png', dpi=300)\n",
    "plt.show()"
   ]
  },
  {
   "cell_type": "markdown",
   "metadata": {},
   "source": [
    "## Branch and Product wise Sales Classification"
   ]
  },
  {
   "cell_type": "code",
   "execution_count": 47,
   "metadata": {},
   "outputs": [
    {
     "data": {
      "text/plain": [
       "(47, 17)"
      ]
     },
     "execution_count": 47,
     "metadata": {},
     "output_type": "execute_result"
    }
   ],
   "source": [
    "branch_a_Health_and_beauty=branch_a[(branch_a['Product line'] == 'Health and beauty')]\n",
    "branch_a_Health_and_beauty.shape"
   ]
  },
  {
   "cell_type": "code",
   "execution_count": 48,
   "metadata": {},
   "outputs": [
    {
     "data": {
      "text/plain": [
       "(60, 17)"
      ]
     },
     "execution_count": 48,
     "metadata": {},
     "output_type": "execute_result"
    }
   ],
   "source": [
    "branch_a_Electronic_accessories=branch_a[(branch_a['Product line'] == 'Electronic accessories')]\n",
    "branch_a_Electronic_accessories.shape"
   ]
  },
  {
   "cell_type": "code",
   "execution_count": 49,
   "metadata": {},
   "outputs": [
    {
     "data": {
      "text/plain": [
       "(65, 17)"
      ]
     },
     "execution_count": 49,
     "metadata": {},
     "output_type": "execute_result"
    }
   ],
   "source": [
    "branch_a_Home_and_lifestyle=branch_a[(branch_a['Product line'] == 'Home and lifestyle')]\n",
    "branch_a_Home_and_lifestyle.shape"
   ]
  },
  {
   "cell_type": "code",
   "execution_count": 50,
   "metadata": {},
   "outputs": [
    {
     "data": {
      "text/plain": [
       "(59, 17)"
      ]
     },
     "execution_count": 50,
     "metadata": {},
     "output_type": "execute_result"
    }
   ],
   "source": [
    "branch_a_Sports_and_travel=branch_a[(branch_a['Product line'] == 'Sports and travel')]\n",
    "branch_a_Sports_and_travel.shape"
   ]
  },
  {
   "cell_type": "code",
   "execution_count": 51,
   "metadata": {},
   "outputs": [
    {
     "data": {
      "text/plain": [
       "(58, 17)"
      ]
     },
     "execution_count": 51,
     "metadata": {},
     "output_type": "execute_result"
    }
   ],
   "source": [
    "branch_a_Food_and_beverages=branch_a[(branch_a['Product line'] == 'Food and beverages')]\n",
    "branch_a_Food_and_beverages.shape"
   ]
  },
  {
   "cell_type": "code",
   "execution_count": 52,
   "metadata": {},
   "outputs": [
    {
     "data": {
      "text/plain": [
       "(51, 17)"
      ]
     },
     "execution_count": 52,
     "metadata": {},
     "output_type": "execute_result"
    }
   ],
   "source": [
    "branch_a_Fashion_accessories=branch_a[(branch_a['Product line'] == 'Fashion accessories')]\n",
    "branch_a_Fashion_accessories.shape"
   ]
  },
  {
   "cell_type": "code",
   "execution_count": 53,
   "metadata": {},
   "outputs": [
    {
     "data": {
      "image/png": "[encoded data removed]",
      "text/plain": [
       "<Figure size 432x288 with 1 Axes>"
      ]
     },
     "metadata": {},
     "output_type": "display_data"
    }
   ],
   "source": [
    "branch_a_product=[47,60,65,59,58,51]\n",
    "labels=['Health and beauty','Electronic accessories','Home and lifestyle','Sports and travel','Food and beverages',\n",
    "       'Fashion accessories']\n",
    "\n",
    "plt.pie(branch_a_product,labels=labels,startangle=90,autopct='%.2f %%')\n",
    "plt.title('Branch A Product Sales', fontdict={'fontname': 'Sans Serif', 'fontsize': 15})\n",
    "plt.axis('equal')\n",
    "\n",
    "plt.savefig('Branch A Product Sales.png', dpi=300)\n",
    "plt.show()"
   ]
  },
  {
   "cell_type": "code",
   "execution_count": 54,
   "metadata": {},
   "outputs": [
    {
     "data": {
      "text/plain": [
       "(53, 17)"
      ]
     },
     "execution_count": 54,
     "metadata": {},
     "output_type": "execute_result"
    }
   ],
   "source": [
    "branch_b_Health_and_beauty=branch_b[(branch_b['Product line'] == 'Health and beauty')]\n",
    "branch_b_Health_and_beauty.shape"
   ]
  },
  {
   "cell_type": "code",
   "execution_count": 55,
   "metadata": {},
   "outputs": [
    {
     "data": {
      "text/plain": [
       "(55, 17)"
      ]
     },
     "execution_count": 55,
     "metadata": {},
     "output_type": "execute_result"
    }
   ],
   "source": [
    "branch_b_Electronic_accessories=branch_b[(branch_b['Product line'] == 'Electronic accessories')]\n",
    "branch_b_Electronic_accessories.shape"
   ]
  },
  {
   "cell_type": "code",
   "execution_count": 56,
   "metadata": {},
   "outputs": [
    {
     "data": {
      "text/plain": [
       "(50, 17)"
      ]
     },
     "execution_count": 56,
     "metadata": {},
     "output_type": "execute_result"
    }
   ],
   "source": [
    "branch_b_Home_and_lifestyle=branch_b[(branch_b['Product line'] == 'Home and lifestyle')]\n",
    "branch_b_Home_and_lifestyle.shape"
   ]
  },
  {
   "cell_type": "code",
   "execution_count": 57,
   "metadata": {},
   "outputs": [
    {
     "data": {
      "text/plain": [
       "(62, 17)"
      ]
     },
     "execution_count": 57,
     "metadata": {},
     "output_type": "execute_result"
    }
   ],
   "source": [
    "branch_b_Sports_and_travel=branch_b[(branch_b['Product line'] == 'Sports and travel')]\n",
    "branch_b_Sports_and_travel.shape"
   ]
  },
  {
   "cell_type": "code",
   "execution_count": 58,
   "metadata": {},
   "outputs": [
    {
     "data": {
      "text/plain": [
       "(50, 17)"
      ]
     },
     "execution_count": 58,
     "metadata": {},
     "output_type": "execute_result"
    }
   ],
   "source": [
    "branch_b_Food_and_beverages=branch_b[(branch_b['Product line'] == 'Food and beverages')]\n",
    "branch_b_Food_and_beverages.shape"
   ]
  },
  {
   "cell_type": "code",
   "execution_count": 59,
   "metadata": {},
   "outputs": [
    {
     "data": {
      "text/plain": [
       "(62, 17)"
      ]
     },
     "execution_count": 59,
     "metadata": {},
     "output_type": "execute_result"
    }
   ],
   "source": [
    "branch_b_Fashion_accessories=branch_b[(branch_b['Product line'] == 'Fashion accessories')]\n",
    "branch_b_Fashion_accessories.shape"
   ]
  },
  {
   "cell_type": "code",
   "execution_count": 60,
   "metadata": {},
   "outputs": [
    {
     "data": {
      "image/png": "[encoded data removed]",
      "text/plain": [
       "<Figure size 432x288 with 1 Axes>"
      ]
     },
     "metadata": {},
     "output_type": "display_data"
    }
   ],
   "source": [
    "branch_a_product=[53,55,50,62,50,62]\n",
    "labels=['Health and beauty','Electronic accessories','Home and lifestyle','Sports and travel','Food and beverages',\n",
    "       'Fashion accessories']\n",
    "\n",
    "plt.pie(branch_a_product,labels=labels,startangle=90,autopct='%.2f %%')\n",
    "plt.title('Branch B Product Sales', fontdict={'fontname': 'Sans Serif', 'fontsize': 20})\n",
    "plt.axis('equal')\n",
    "\n",
    "plt.savefig('Branch B Product Sales.png', dpi=300)\n",
    "plt.show()"
   ]
  },
  {
   "cell_type": "code",
   "execution_count": 61,
   "metadata": {},
   "outputs": [
    {
     "data": {
      "text/plain": [
       "(52, 17)"
      ]
     },
     "execution_count": 61,
     "metadata": {},
     "output_type": "execute_result"
    }
   ],
   "source": [
    "branch_c_Health_and_beauty=branch_c[(branch_c['Product line'] == 'Health and beauty')]\n",
    "branch_c_Health_and_beauty.shape"
   ]
  },
  {
   "cell_type": "code",
   "execution_count": 62,
   "metadata": {},
   "outputs": [
    {
     "data": {
      "text/plain": [
       "(55, 17)"
      ]
     },
     "execution_count": 62,
     "metadata": {},
     "output_type": "execute_result"
    }
   ],
   "source": [
    "branch_c_Electronic_accessories=branch_c[(branch_c['Product line'] == 'Electronic accessories')]\n",
    "branch_c_Electronic_accessories.shape"
   ]
  },
  {
   "cell_type": "code",
   "execution_count": 63,
   "metadata": {},
   "outputs": [
    {
     "data": {
      "text/plain": [
       "(45, 17)"
      ]
     },
     "execution_count": 63,
     "metadata": {},
     "output_type": "execute_result"
    }
   ],
   "source": [
    "branch_c_Home_and_lifestyle=branch_c[(branch_c['Product line'] == 'Home and lifestyle')]\n",
    "branch_c_Home_and_lifestyle.shape"
   ]
  },
  {
   "cell_type": "code",
   "execution_count": 64,
   "metadata": {},
   "outputs": [
    {
     "data": {
      "text/plain": [
       "(45, 17)"
      ]
     },
     "execution_count": 64,
     "metadata": {},
     "output_type": "execute_result"
    }
   ],
   "source": [
    "branch_c_Sports_and_travel=branch_c[(branch_c['Product line'] == 'Sports and travel')]\n",
    "branch_c_Sports_and_travel.shape"
   ]
  },
  {
   "cell_type": "code",
   "execution_count": 65,
   "metadata": {},
   "outputs": [
    {
     "data": {
      "text/plain": [
       "(66, 17)"
      ]
     },
     "execution_count": 65,
     "metadata": {},
     "output_type": "execute_result"
    }
   ],
   "source": [
    "branch_c_Food_and_beverages=branch_c[(branch_c['Product line'] == 'Food and beverages')]\n",
    "branch_c_Food_and_beverages.shape"
   ]
  },
  {
   "cell_type": "code",
   "execution_count": 66,
   "metadata": {},
   "outputs": [
    {
     "data": {
      "text/plain": [
       "(65, 17)"
      ]
     },
     "execution_count": 66,
     "metadata": {},
     "output_type": "execute_result"
    }
   ],
   "source": [
    "branch_c_Fashion_accessories=branch_c[(branch_c['Product line'] == 'Fashion accessories')]\n",
    "branch_c_Fashion_accessories.shape"
   ]
  },
  {
   "cell_type": "code",
   "execution_count": 67,
   "metadata": {},
   "outputs": [
    {
     "data": {
      "image/png": "[encoded data removed]",
      "text/plain": [
       "<Figure size 432x288 with 1 Axes>"
      ]
     },
     "metadata": {},
     "output_type": "display_data"
    }
   ],
   "source": [
    "branch_a_product=[52,55,45,45,66,65]\n",
    "labels=['Health and beauty','Electronic accessories','Home and lifestyle','Sports and travel','Food and beverages',\n",
    "       'Fashion accessories']\n",
    "\n",
    "plt.pie(branch_a_product,labels=labels,startangle=90,autopct='%.2f %%')\n",
    "plt.title('Branch C Product Sales', fontdict={'fontname': 'Sans Serif', 'fontsize': 20})\n",
    "plt.axis('equal')\n",
    "\n",
    "plt.savefig('Branch C Product Sales.png', dpi=300)\n",
    "plt.show()"
   ]
  },
  {
   "cell_type": "markdown",
   "metadata": {},
   "source": [
    "## Branch and Payment Classification"
   ]
  },
  {
   "cell_type": "code",
   "execution_count": 68,
   "metadata": {},
   "outputs": [
    {
     "data": {
      "text/plain": [
       "(110, 17)"
      ]
     },
     "execution_count": 68,
     "metadata": {},
     "output_type": "execute_result"
    }
   ],
   "source": [
    "branch_a_cash=branch_a[(branch_a['Payment'] == 'Cash')]\n",
    "branch_a_cash.shape"
   ]
  },
  {
   "cell_type": "code",
   "execution_count": 69,
   "metadata": {},
   "outputs": [
    {
     "data": {
      "text/plain": [
       "(126, 17)"
      ]
     },
     "execution_count": 69,
     "metadata": {},
     "output_type": "execute_result"
    }
   ],
   "source": [
    "branch_a_ewallet=branch_a[(branch_a['Payment'] == 'Ewallet')]\n",
    "branch_a_ewallet.shape"
   ]
  },
  {
   "cell_type": "code",
   "execution_count": 70,
   "metadata": {},
   "outputs": [
    {
     "data": {
      "text/plain": [
       "(104, 17)"
      ]
     },
     "execution_count": 70,
     "metadata": {},
     "output_type": "execute_result"
    }
   ],
   "source": [
    "branch_a_cc=branch_a[(branch_a['Payment'] == 'Credit card')]\n",
    "branch_a_cc.shape"
   ]
  },
  {
   "cell_type": "code",
   "execution_count": 71,
   "metadata": {},
   "outputs": [
    {
     "data": {
      "text/plain": [
       "(110, 17)"
      ]
     },
     "execution_count": 71,
     "metadata": {},
     "output_type": "execute_result"
    }
   ],
   "source": [
    "branch_b_cash=branch_b[(branch_b['Payment'] == 'Cash')]\n",
    "branch_b_cash.shape"
   ]
  },
  {
   "cell_type": "code",
   "execution_count": 72,
   "metadata": {},
   "outputs": [
    {
     "data": {
      "text/plain": [
       "(113, 17)"
      ]
     },
     "execution_count": 72,
     "metadata": {},
     "output_type": "execute_result"
    }
   ],
   "source": [
    "branch_b_ewallet=branch_b[(branch_b['Payment'] == 'Ewallet')]\n",
    "branch_b_ewallet.shape"
   ]
  },
  {
   "cell_type": "code",
   "execution_count": 73,
   "metadata": {},
   "outputs": [
    {
     "data": {
      "text/plain": [
       "(109, 17)"
      ]
     },
     "execution_count": 73,
     "metadata": {},
     "output_type": "execute_result"
    }
   ],
   "source": [
    "branch_b_cc=branch_b[(branch_b['Payment'] == 'Credit card')]\n",
    "branch_b_cc.shape"
   ]
  },
  {
   "cell_type": "code",
   "execution_count": 74,
   "metadata": {},
   "outputs": [
    {
     "data": {
      "text/plain": [
       "(124, 17)"
      ]
     },
     "execution_count": 74,
     "metadata": {},
     "output_type": "execute_result"
    }
   ],
   "source": [
    "branch_c_cash=branch_c[(branch_c['Payment'] == 'Cash')]\n",
    "branch_c_cash.shape"
   ]
  },
  {
   "cell_type": "code",
   "execution_count": 75,
   "metadata": {},
   "outputs": [
    {
     "data": {
      "text/plain": [
       "(106, 17)"
      ]
     },
     "execution_count": 75,
     "metadata": {},
     "output_type": "execute_result"
    }
   ],
   "source": [
    "branch_c_ewallet=branch_c[(branch_c['Payment'] == 'Ewallet')]\n",
    "branch_c_ewallet.shape"
   ]
  },
  {
   "cell_type": "code",
   "execution_count": 76,
   "metadata": {},
   "outputs": [
    {
     "data": {
      "text/plain": [
       "(98, 17)"
      ]
     },
     "execution_count": 76,
     "metadata": {},
     "output_type": "execute_result"
    }
   ],
   "source": [
    "branch_c_cc=branch_c[(branch_c['Payment'] == 'Credit card')]\n",
    "branch_c_cc.shape"
   ]
  },
  {
   "cell_type": "code",
   "execution_count": 77,
   "metadata": {},
   "outputs": [
    {
     "data": {
      "image/png": "[encoded data removed]",
      "text/plain": [
       "<Figure size 432x288 with 1 Axes>"
      ]
     },
     "metadata": {
      "needs_background": "light"
     },
     "output_type": "display_data"
    }
   ],
   "source": [
    "pay_cash=[110,110,124]\n",
    "pay_ewallet=[126,113,106]\n",
    "pay_cc=[104,109,98]\n",
    "\n",
    "\n",
    "labels=['A','B','C']\n",
    "\n",
    "\n",
    "x=np.arange(len(labels))\n",
    "width=0.20\n",
    "\n",
    "\n",
    "fig, ax = plt.subplots()\n",
    "\n",
    "\n",
    "rects1 = ax.bar(x - 0.20, pay_cash, width, label='Cash',edgecolor='black')\n",
    "rects2 = ax.bar(x, pay_ewallet, width, label='E-Wallet',edgecolor='black')\n",
    "rects3 = ax.bar(x + 0.20, pay_cc, width, label='Credit Card',edgecolor='black')\n",
    "\n",
    "\n",
    "\n",
    "ax.set_ylabel('Invoice',fontdict={'fontname': 'Sans Serif', 'fontsize': 15})\n",
    "ax.set_xlabel('Branch',fontdict={'fontname': 'Sans Serif', 'fontsize': 15})\n",
    "ax.set_title('Branch wise Payment Type',fontdict={'fontname': 'Sans Serif', 'fontsize': 20})\n",
    "ax.set_xticks(x)\n",
    "ax.set_xticklabels(labels)\n",
    "ax.set_yticks([0,20,40,60,80,100,120,140,160,180])\n",
    "\n",
    "\n",
    "ax.legend()\n",
    "\n",
    "def autolabel(rects):\n",
    "    \"\"\"Attach a text label above each bar in *rects*, displaying its height.\"\"\"\n",
    "    for rect in rects:\n",
    "        height = rect.get_height()\n",
    "        ax.annotate('{}'.format(height),\n",
    "                    xy=(rect.get_x() + rect.get_width() / 2, height),\n",
    "                    xytext=(0, 3),  # 3 points vertical offset\n",
    "                    textcoords=\"offset points\",\n",
    "                    ha='center', va='bottom')\n",
    "\n",
    "autolabel(rects1)\n",
    "autolabel(rects2)\n",
    "autolabel(rects3)\n",
    "\n",
    "\n",
    "fig.tight_layout()\n",
    "\n",
    "\n",
    "plt.savefig('Branch wise Payment Type.png', dpi=300)\n",
    "plt.show()\n"
   ]
  },
  {
   "cell_type": "markdown",
   "metadata": {},
   "source": [
    "## Customer(Type) and Product wise Classification"
   ]
  },
  {
   "cell_type": "code",
   "execution_count": 79,
   "metadata": {},
   "outputs": [
    {
     "data": {
      "text/plain": [
       "(73, 17)"
      ]
     },
     "execution_count": 79,
     "metadata": {},
     "output_type": "execute_result"
    }
   ],
   "source": [
    "cus_member_helth_and_beauty=cus_member[(cus_member['Product line'] == 'Health and beauty')]\n",
    "cus_member_helth_and_beauty.shape"
   ]
  },
  {
   "cell_type": "code",
   "execution_count": 80,
   "metadata": {},
   "outputs": [
    {
     "data": {
      "text/plain": [
       "(79, 17)"
      ]
     },
     "execution_count": 80,
     "metadata": {},
     "output_type": "execute_result"
    }
   ],
   "source": [
    "cus_normal_helth_and_beauty=cus_normal[(cus_normal['Product line'] == 'Health and beauty')]\n",
    "cus_normal_helth_and_beauty.shape"
   ]
  },
  {
   "cell_type": "code",
   "execution_count": 81,
   "metadata": {},
   "outputs": [
    {
     "data": {
      "text/plain": [
       "(78, 17)"
      ]
     },
     "execution_count": 81,
     "metadata": {},
     "output_type": "execute_result"
    }
   ],
   "source": [
    "cus_member_Electronic_accessories=cus_member[(cus_member['Product line'] == 'Electronic accessories')]\n",
    "cus_member_Electronic_accessories.shape"
   ]
  },
  {
   "cell_type": "code",
   "execution_count": 82,
   "metadata": {},
   "outputs": [
    {
     "data": {
      "text/plain": [
       "(92, 17)"
      ]
     },
     "execution_count": 82,
     "metadata": {},
     "output_type": "execute_result"
    }
   ],
   "source": [
    "cus_normal_Electronic_accessories=cus_normal[(cus_normal['Product line'] == 'Electronic accessories')]\n",
    "cus_normal_Electronic_accessories.shape"
   ]
  },
  {
   "cell_type": "code",
   "execution_count": 83,
   "metadata": {},
   "outputs": [
    {
     "data": {
      "text/plain": [
       "(83, 17)"
      ]
     },
     "execution_count": 83,
     "metadata": {},
     "output_type": "execute_result"
    }
   ],
   "source": [
    "cus_member_Home_and_lifestyle=cus_member[(cus_member['Product line'] == 'Home and lifestyle')]\n",
    "cus_member_Home_and_lifestyle.shape"
   ]
  },
  {
   "cell_type": "code",
   "execution_count": 84,
   "metadata": {},
   "outputs": [
    {
     "data": {
      "text/plain": [
       "(77, 17)"
      ]
     },
     "execution_count": 84,
     "metadata": {},
     "output_type": "execute_result"
    }
   ],
   "source": [
    "cus_normal_Home_and_lifestyle=cus_normal[(cus_normal['Product line'] == 'Home and lifestyle')]\n",
    "cus_normal_Home_and_lifestyle.shape"
   ]
  },
  {
   "cell_type": "code",
   "execution_count": 85,
   "metadata": {},
   "outputs": [
    {
     "data": {
      "text/plain": [
       "(87, 17)"
      ]
     },
     "execution_count": 85,
     "metadata": {},
     "output_type": "execute_result"
    }
   ],
   "source": [
    "cus_member_Sports_and_travel=cus_member[(cus_member['Product line'] == 'Sports and travel')]\n",
    "cus_member_Sports_and_travel.shape"
   ]
  },
  {
   "cell_type": "code",
   "execution_count": 86,
   "metadata": {},
   "outputs": [
    {
     "data": {
      "text/plain": [
       "(79, 17)"
      ]
     },
     "execution_count": 86,
     "metadata": {},
     "output_type": "execute_result"
    }
   ],
   "source": [
    "cus_normal_Sports_and_travel=cus_normal[(cus_normal['Product line'] == 'Sports and travel')]\n",
    "cus_normal_Sports_and_travel.shape"
   ]
  },
  {
   "cell_type": "code",
   "execution_count": 87,
   "metadata": {},
   "outputs": [
    {
     "data": {
      "text/plain": [
       "(94, 17)"
      ]
     },
     "execution_count": 87,
     "metadata": {},
     "output_type": "execute_result"
    }
   ],
   "source": [
    "cus_member_Food_and_beverages=cus_member[(cus_member['Product line'] == 'Food and beverages')]\n",
    "cus_member_Food_and_beverages.shape"
   ]
  },
  {
   "cell_type": "code",
   "execution_count": 88,
   "metadata": {},
   "outputs": [
    {
     "data": {
      "text/plain": [
       "(80, 17)"
      ]
     },
     "execution_count": 88,
     "metadata": {},
     "output_type": "execute_result"
    }
   ],
   "source": [
    "cus_normal_Food_and_beverages=cus_normal[(cus_normal['Product line'] == 'Food and beverages')]\n",
    "cus_normal_Food_and_beverages.shape"
   ]
  },
  {
   "cell_type": "code",
   "execution_count": 89,
   "metadata": {},
   "outputs": [
    {
     "data": {
      "text/plain": [
       "(86, 17)"
      ]
     },
     "execution_count": 89,
     "metadata": {},
     "output_type": "execute_result"
    }
   ],
   "source": [
    "cus_member_Fashion_accessories=cus_member[(cus_member['Product line'] == 'Fashion accessories')]\n",
    "cus_member_Fashion_accessories.shape"
   ]
  },
  {
   "cell_type": "code",
   "execution_count": 90,
   "metadata": {},
   "outputs": [
    {
     "data": {
      "text/plain": [
       "(92, 17)"
      ]
     },
     "execution_count": 90,
     "metadata": {},
     "output_type": "execute_result"
    }
   ],
   "source": [
    "cus_normal_Fashion_accessories=cus_normal[(cus_normal['Product line'] == 'Fashion accessories')]\n",
    "cus_normal_Fashion_accessories.shape"
   ]
  },
  {
   "cell_type": "code",
   "execution_count": 93,
   "metadata": {},
   "outputs": [
    {
     "data": {
      "image/png": "[encoded data removed]",
      "text/plain": [
       "<Figure size 432x288 with 1 Axes>"
      ]
     },
     "metadata": {
      "needs_background": "light"
     },
     "output_type": "display_data"
    }
   ],
   "source": [
    "Health_and_beauty=[73,79]\n",
    "Electronic_accessories=[78,92]\n",
    "Home_and_lifestyle=[83,77]\n",
    "Sports_and_travel=[87,79]\n",
    "Food_and_beverages=[94,80]\n",
    "Fashion_accessories=[86,92]\n",
    "\n",
    "labels=['Member','Normal']\n",
    "\n",
    "\n",
    "x=np.arange(len(labels))\n",
    "width=0.10\n",
    "\n",
    "\n",
    "fig, ax = plt.subplots()\n",
    "\n",
    "\n",
    "rects1 = ax.bar(x - 0.2, Health_and_beauty, width, label='Health and Beauty',edgecolor='black')\n",
    "rects2 = ax.bar(x - 0.1, Electronic_accessories, width, label='Electronic Accessories',edgecolor='black')\n",
    "rects3 = ax.bar(x, Home_and_lifestyle, width, label='Home and Lifestyle',edgecolor='black')\n",
    "rects4 = ax.bar(x + 0.1, Sports_and_travel, width, label='Sports and Travel',edgecolor='black')\n",
    "rects5 = ax.bar(x + 0.2, Food_and_beverages, width, label='Food and Beverages',edgecolor='black')\n",
    "rects6 = ax.bar(x + 0.3, Fashion_accessories, width, label='Fashion Accessories',edgecolor='black')\n",
    "\n",
    "\n",
    "ax.set_ylabel('Invoice',fontdict={'fontname': 'Sans Serif', 'fontsize': 15})\n",
    "ax.set_xlabel('Customer',fontdict={'fontname': 'Sans Serif', 'fontsize': 15})\n",
    "ax.set_title('Product wise Customer(Gender)',fontdict={'fontname': 'Sans Serif', 'fontsize': 20})\n",
    "ax.set_xticks(x)\n",
    "ax.set_xticklabels(labels)\n",
    "ax.set_yticks([0,20,40,60,80,100,120])\n",
    "\n",
    "\n",
    "ax.legend()\n",
    "\n",
    "def autolabel(rects):\n",
    "    \"\"\"Attach a text label above each bar in *rects*, displaying its height.\"\"\"\n",
    "    for rect in rects:\n",
    "        height = rect.get_height()\n",
    "        ax.annotate('{}'.format(height),\n",
    "                    xy=(rect.get_x() + rect.get_width() / 2, height),\n",
    "                    xytext=(0, 3),  # 3 points vertical offset\n",
    "                    textcoords=\"offset points\",\n",
    "                    ha='center', va='bottom')\n",
    "\n",
    "autolabel(rects1)\n",
    "autolabel(rects2)\n",
    "autolabel(rects3)\n",
    "autolabel(rects4)\n",
    "autolabel(rects5)\n",
    "autolabel(rects6)\n",
    "\n",
    "fig.tight_layout()\n",
    "\n",
    "\n",
    "plt.savefig('Customer(Type) and Product.png', dpi=300)\n",
    "plt.show()"
   ]
  },
  {
   "cell_type": "markdown",
   "metadata": {},
   "source": [
    "## Customer and Payment wise Classification"
   ]
  },
  {
   "cell_type": "code",
   "execution_count": 94,
   "metadata": {},
   "outputs": [
    {
     "data": {
      "text/plain": [
       "(168, 17)"
      ]
     },
     "execution_count": 94,
     "metadata": {},
     "output_type": "execute_result"
    }
   ],
   "source": [
    "cus_member_payment_cash=payment_cash[(payment_cash['Customer type'] == 'Member')]\n",
    "cus_member_payment_cash.shape"
   ]
  },
  {
   "cell_type": "code",
   "execution_count": 96,
   "metadata": {},
   "outputs": [
    {
     "data": {
      "text/plain": [
       "(176, 17)"
      ]
     },
     "execution_count": 96,
     "metadata": {},
     "output_type": "execute_result"
    }
   ],
   "source": [
    "cus_normal_payment_cash=payment_cash[(payment_cash['Customer type'] == 'Normal')]\n",
    "cus_normal_payment_cash.shape"
   ]
  },
  {
   "cell_type": "code",
   "execution_count": 97,
   "metadata": {},
   "outputs": [
    {
     "data": {
      "text/plain": [
       "(161, 17)"
      ]
     },
     "execution_count": 97,
     "metadata": {},
     "output_type": "execute_result"
    }
   ],
   "source": [
    "cus_member_payment_ewallet=payment_ewallet[(payment_ewallet['Customer type'] == 'Member')]\n",
    "cus_member_payment_ewallet.shape"
   ]
  },
  {
   "cell_type": "code",
   "execution_count": 98,
   "metadata": {},
   "outputs": [
    {
     "data": {
      "text/plain": [
       "(184, 17)"
      ]
     },
     "execution_count": 98,
     "metadata": {},
     "output_type": "execute_result"
    }
   ],
   "source": [
    "cus_normal_payment_ewallet=payment_ewallet[(payment_ewallet['Customer type'] == 'Normal')]\n",
    "cus_normal_payment_ewallet.shape"
   ]
  },
  {
   "cell_type": "code",
   "execution_count": 99,
   "metadata": {},
   "outputs": [
    {
     "data": {
      "text/plain": [
       "(172, 17)"
      ]
     },
     "execution_count": 99,
     "metadata": {},
     "output_type": "execute_result"
    }
   ],
   "source": [
    "cus_member_payment_cc=payment_cc[(payment_cc['Customer type'] == 'Member')]\n",
    "cus_member_payment_cc.shape"
   ]
  },
  {
   "cell_type": "code",
   "execution_count": 100,
   "metadata": {},
   "outputs": [
    {
     "data": {
      "text/plain": [
       "(139, 17)"
      ]
     },
     "execution_count": 100,
     "metadata": {},
     "output_type": "execute_result"
    }
   ],
   "source": [
    "cus_normal_payment_cc=payment_cc[(payment_cc['Customer type'] == 'Normal')]\n",
    "cus_normal_payment_cc.shape"
   ]
  },
  {
   "cell_type": "code",
   "execution_count": 103,
   "metadata": {},
   "outputs": [
    {
     "data": {
      "image/png": "[encoded data removed]",
      "text/plain": [
       "<Figure size 432x288 with 1 Axes>"
      ]
     },
     "metadata": {
      "needs_background": "light"
     },
     "output_type": "display_data"
    }
   ],
   "source": [
    "cus_pay_cash=[168,176]\n",
    "cus_pay_ewallet=[161,184]\n",
    "cus_pay_cc=[172,139]\n",
    "\n",
    "\n",
    "labels=['Membar','Normal']\n",
    "\n",
    "\n",
    "x=np.arange(len(labels))\n",
    "width=0.20\n",
    "\n",
    "\n",
    "fig, ax = plt.subplots()\n",
    "\n",
    "\n",
    "rects1 = ax.bar(x - 0.20, cus_pay_cash, width, label='Cash',edgecolor='black')\n",
    "rects2 = ax.bar(x, cus_pay_ewallet, width, label='E-Wallet',edgecolor='black')\n",
    "rects3 = ax.bar(x + 0.20, cus_pay_cc, width, label='Credit Card',edgecolor='black')\n",
    "\n",
    "\n",
    "\n",
    "ax.set_ylabel('Invoice',fontdict={'fontname': 'Sans Serif', 'fontsize': 15})\n",
    "ax.set_xlabel('Customer',fontdict={'fontname': 'Sans Serif', 'fontsize': 15})\n",
    "ax.set_title('Customer wise Payment Method',fontdict={'fontname': 'Sans Serif', 'fontsize': 20})\n",
    "ax.set_xticks(x)\n",
    "ax.set_xticklabels(labels)\n",
    "ax.set_yticks([0,25,50,75,100,125,150,175,200,225,250,275])\n",
    "\n",
    "\n",
    "ax.legend()\n",
    "\n",
    "def autolabel(rects):\n",
    "    \"\"\"Attach a text label above each bar in *rects*, displaying its height.\"\"\"\n",
    "    for rect in rects:\n",
    "        height = rect.get_height()\n",
    "        ax.annotate('{}'.format(height),\n",
    "                    xy=(rect.get_x() + rect.get_width() / 2, height),\n",
    "                    xytext=(0, 3),  # 3 points vertical offset\n",
    "                    textcoords=\"offset points\",\n",
    "                    ha='center', va='bottom')\n",
    "\n",
    "autolabel(rects1)\n",
    "autolabel(rects2)\n",
    "autolabel(rects3)\n",
    "\n",
    "\n",
    "fig.tight_layout()\n",
    "\n",
    "\n",
    "plt.savefig('Customer wise Payment Method.png', dpi=300)\n",
    "plt.show()"
   ]
  },
  {
   "cell_type": "markdown",
   "metadata": {},
   "source": [
    "## Product and Income wise Classification"
   ]
  },
  {
   "cell_type": "code",
   "execution_count": 109,
   "metadata": {},
   "outputs": [
    {
     "data": {
      "text/plain": [
       "Invoice ID                 351-62-0822649-29-6775189-17-4241871-79-848357...\n",
       "Branch                     BBABCBCBCCACCCCBCBBBCBCABAACCBCBBCBBCACACBCBBC...\n",
       "City                       MandalayMandalayYangonMandalayNaypyitawMandala...\n",
       "Customer type              MemberNormalNormalNormalMemberMemberMemberMemb...\n",
       "Gender                     FemaleMaleFemaleMaleFemaleFemaleMaleFemaleMale...\n",
       "Product line               Fashion accessoriesFashion accessoriesFashion ...\n",
       "Unit price                                                           10173.3\n",
       "Quantity                                                                 902\n",
       "Tax 5%                                                               2585.99\n",
       "Total                                                                54305.9\n",
       "Date                       2/6/20192/8/20193/10/20192/25/20193/19/20193/2...\n",
       "Time                       18:0715:3112:1719:3917:0814:4215:4615:0116:191...\n",
       "Payment                    EwalletCashCredit cardCredit cardEwalletEwalle...\n",
       "cogs                                                                 51719.9\n",
       "gross margin percentage                                              847.619\n",
       "gross income                                                         2585.99\n",
       "Rating                                                                1251.2\n",
       "dtype: object"
      ]
     },
     "execution_count": 109,
     "metadata": {},
     "output_type": "execute_result"
    }
   ],
   "source": [
    "prod_Fashion_accessories.sum()"
   ]
  },
  {
   "cell_type": "code",
   "execution_count": 119,
   "metadata": {},
   "outputs": [
    {
     "data": {
      "image/png": "[encoded data removed]",
      "text/plain": [
       "<Figure size 432x288 with 1 Axes>"
      ]
     },
     "metadata": {
      "needs_background": "light"
     },
     "output_type": "display_data"
    }
   ],
   "source": [
    "product_wise_income=[2342.56,2587.50,2564.85,2624.90,2673.56,2585.99]\n",
    "product_lebel=['Health and Beauty','Electronic Accessories','Home and Lifestyle','Sports and Travel','Food and Beverages',\n",
    "              'Fashion Accessories']\n",
    "\n",
    "x=np.arange(len(product_lebel))\n",
    "\n",
    "fig, ax = plt.subplots()\n",
    "\n",
    "rect1=ax.bar(product_lebel,product_wise_income,0.50,label='Income in $', color='y', edgecolor='black')\n",
    "\n",
    "ax.set_title('Product wise Income ($)', fontdict={'fontname': 'Sans Serif', 'fontsize': 30})\n",
    "ax.set_xlabel('Product',fontdict={'fontname': 'Sans Serif', 'fontsize': 15})\n",
    "ax.set_ylabel('Income (in $)',fontdict={'fontname': 'Sans Serif', 'fontsize': 15})\n",
    "ax.set_yticks([0,1000,2000,3000,3500])\n",
    "plt.xticks(x,product_lebel, rotation=45)\n",
    "\n",
    "ax.legend()\n",
    "\n",
    "def autolabel(rects):\n",
    "    \"\"\"Attach a text label above each bar in *rects*, displaying its height.\"\"\"\n",
    "    for rect in rects:\n",
    "        height = rect.get_height()\n",
    "        ax.annotate('{}'.format(height),\n",
    "                    xy=(rect.get_x() + rect.get_width() / 2, height),\n",
    "                    xytext=(0, 3),  # 3 points vertical offset\n",
    "                    textcoords=\"offset points\",\n",
    "                    ha='center', va='bottom')\n",
    "autolabel(rect1)\n",
    "\n",
    "\n",
    "ax=plt.savefig('Product wise Income.png', dpi=300)\n",
    "plt.show()"
   ]
  },
  {
   "cell_type": "markdown",
   "metadata": {},
   "source": [
    "## Branch wise Revenue Classification"
   ]
  },
  {
   "cell_type": "code",
   "execution_count": 122,
   "metadata": {},
   "outputs": [
    {
     "data": {
      "text/plain": [
       "Invoice ID                 750-67-8428631-41-3108123-19-1176373-73-791035...\n",
       "Branch                     AAAAAAAAAAAAAAAAAAAAAAAAAAAAAAAAAAAAAAAAAAAAAA...\n",
       "City                       YangonYangonYangonYangonYangonYangonYangonYang...\n",
       "Customer type              MemberNormalMemberNormalMemberMemberNormalNorm...\n",
       "Gender                     FemaleMaleMaleMaleFemaleFemaleFemaleMaleFemale...\n",
       "Product line               Health and beautyHome and lifestyleHealth and ...\n",
       "Unit price                                                           18625.5\n",
       "Quantity                                                                1859\n",
       "Tax 5%                                                               5057.16\n",
       "Total                                                                 106200\n",
       "Date                       1/5/20193/3/20191/27/20192/8/20192/25/20191/10...\n",
       "Time                       13:0813:2320:3310:3714:3617:1510:2516:4819:211...\n",
       "Payment                    EwalletCredit cardEwalletEwalletEwalletCredit ...\n",
       "cogs                                                                  101143\n",
       "gross margin percentage                                              1619.05\n",
       "gross income                                                         5057.16\n",
       "Rating                                                                2389.2\n",
       "dtype: object"
      ]
     },
     "execution_count": 122,
     "metadata": {},
     "output_type": "execute_result"
    }
   ],
   "source": [
    "branch_a.sum()"
   ]
  },
  {
   "cell_type": "code",
   "execution_count": 123,
   "metadata": {},
   "outputs": [
    {
     "data": {
      "text/plain": [
       "Invoice ID                 692-92-5582351-62-0822529-56-3974299-46-180531...\n",
       "Branch                     BBBBBBBBBBBBBBBBBBBBBBBBBBBBBBBBBBBBBBBBBBBBBB...\n",
       "City                       MandalayMandalayMandalayMandalayMandalayMandal...\n",
       "Customer type              MemberMemberMemberMemberNormalNormalNormalNorm...\n",
       "Gender                     FemaleFemaleMaleFemaleFemaleMaleMaleMaleFemale...\n",
       "Product line               Food and beveragesFashion accessoriesElectroni...\n",
       "Unit price                                                           18478.9\n",
       "Quantity                                                                1820\n",
       "Tax 5%                                                               5057.03\n",
       "Total                                                                 106198\n",
       "Date                       2/20/20192/6/20193/9/20191/15/20193/11/20193/5...\n",
       "Time                       13:2718:0717:0316:1915:3010:4012:2015:3119:481...\n",
       "Payment                    Credit cardEwalletCashCashEwalletEwalletCredit...\n",
       "cogs                                                                  101141\n",
       "gross margin percentage                                              1580.95\n",
       "gross income                                                         5057.03\n",
       "Rating                                                                2263.6\n",
       "dtype: object"
      ]
     },
     "execution_count": 123,
     "metadata": {},
     "output_type": "execute_result"
    }
   ],
   "source": [
    "branch_b.sum()"
   ]
  },
  {
   "cell_type": "code",
   "execution_count": 124,
   "metadata": {},
   "outputs": [
    {
     "data": {
      "text/plain": [
       "Invoice ID                 226-31-3081699-14-3026315-22-5665300-71-460518...\n",
       "Branch                     CCCCCCCCCCCCCCCCCCCCCCCCCCCCCCCCCCCCCCCCCCCCCC...\n",
       "City                       NaypyitawNaypyitawNaypyitawNaypyitawNaypyitawN...\n",
       "Customer type              NormalNormalNormalMemberMemberMemberNormalMemb...\n",
       "Gender                     FemaleMaleFemaleMaleFemaleFemaleFemaleMaleFema...\n",
       "Product line               Electronic accessoriesElectronic accessoriesHo...\n",
       "Unit price                                                           18567.8\n",
       "Quantity                                                                1831\n",
       "Tax 5%                                                               5265.18\n",
       "Total                                                                 110569\n",
       "Date                       3/8/20193/25/20192/24/20192/25/20192/6/20191/7...\n",
       "Time                       10:2918:3011:3811:2410:4212:2813:2410:1120:391...\n",
       "Payment                    CashEwalletEwalletEwalletEwalletEwalletEwallet...\n",
       "cogs                                                                  105304\n",
       "gross margin percentage                                               1561.9\n",
       "gross income                                                         5265.18\n",
       "Rating                                                                2319.9\n",
       "dtype: object"
      ]
     },
     "execution_count": 124,
     "metadata": {},
     "output_type": "execute_result"
    }
   ],
   "source": [
    "branch_c.sum()"
   ]
  },
  {
   "cell_type": "code",
   "execution_count": 135,
   "metadata": {},
   "outputs": [
    {
     "data": {
      "image/png": "[encoded data removed]",
      "text/plain": [
       "<Figure size 432x288 with 1 Axes>"
      ]
     },
     "metadata": {
      "needs_background": "light"
     },
     "output_type": "display_data"
    }
   ],
   "source": [
    "branch_wise_total_revenue=[106200,106198,110569]\n",
    "branch_lebel=['A','B','C']\n",
    "\n",
    "x=np.arange(len(branch_lebel))\n",
    "\n",
    "fig, ax = plt.subplots()\n",
    "\n",
    "rect1=ax.bar(branch_lebel,branch_wise_total_revenue,0.30,label='Income in $', color='g', edgecolor='black')\n",
    "\n",
    "ax.set_title('Branch wise Revenue ($)', fontdict={'fontname': 'Sans Serif', 'fontsize': 20})\n",
    "ax.set_xlabel('Branch',fontdict={'fontname': 'Sans Serif', 'fontsize': 15})\n",
    "ax.set_ylabel('Revenue (in $)',fontdict={'fontname': 'Sans Serif', 'fontsize': 15})\n",
    "ax.set_yticks([0,20000,40000,60000,80000,100000,120000,140000])\n",
    "plt.xticks(x,branch_lebel)\n",
    "\n",
    "ax.legend()\n",
    "\n",
    "def autolabel(rects):\n",
    "    \"\"\"Attach a text label above each bar in *rects*, displaying its height.\"\"\"\n",
    "    for rect in rects:\n",
    "        height = rect.get_height()\n",
    "        ax.annotate('({})'.format(height),\n",
    "                    xy=(rect.get_x() + rect.get_width() / 2, height),\n",
    "                    xytext=(0, 3),  # 3 points vertical offset\n",
    "                    textcoords=\"offset points\",\n",
    "                    ha='center', va='bottom')\n",
    "autolabel(rect1)\n",
    "\n",
    "\n",
    "ax=plt.savefig('Branch wise Revenue.png', dpi=300)\n",
    "plt.show()"
   ]
  },
  {
   "cell_type": "code",
   "execution_count": null,
   "metadata": {},
   "outputs": [],
   "source": []
  }
 ],
 "metadata": {
  "kernelspec": {
   "display_name": "Python 3",
   "language": "python",
   "name": "python3"
  },
  "language_info": {
   "codemirror_mode": {
    "name": "ipython",
    "version": 3
   },
   "file_extension": ".py",
   "mimetype": "text/x-python",
   "name": "python",
   "nbconvert_exporter": "python",
   "pygments_lexer": "ipython3",
   "version": "3.7.4"
  }
 },
 "nbformat": 4,
 "nbformat_minor": 2
}
